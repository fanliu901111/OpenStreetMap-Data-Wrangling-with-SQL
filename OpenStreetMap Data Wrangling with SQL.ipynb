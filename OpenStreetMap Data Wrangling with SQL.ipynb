{
 "cells": [
  {
   "cell_type": "markdown",
   "metadata": {},
   "source": [
    "# OpenStreetMap Data Wrangling with SQL"
   ]
  },
  {
   "cell_type": "markdown",
   "metadata": {},
   "source": [
    "## Name: \n",
    "Fan Liu"
   ]
  },
  {
   "cell_type": "markdown",
   "metadata": {},
   "source": [
    "## Map Area: \n",
    "Seattle, WA, United States\n",
    "\n",
    "* https://www.openstreetmap.org/relation/237385\n",
    "* https://mapzen.com/data/metro-extracts/"
   ]
  },
  {
   "cell_type": "markdown",
   "metadata": {},
   "source": [
    "I went to University of Wahington in Seattle area, so I am more intereted in this area that what database query reveals."
   ]
  },
  {
   "cell_type": "markdown",
   "metadata": {},
   "source": [
    "## Data Audit\n",
    "After downloading the data file from openstreetmap, we can see that it is an .osm file.The size of the original file is over 1.8G, so I used a sample_file to do the analysis first and then apply it on the whole file.\n",
    "Also I found out that it uses different types of tags. So, I parse the seattle_washington dataset using ElementTree and count number of the unique tags. `mapparser.ipynb` is used to count the numbers of unique tags."
   ]
  },
  {
   "cell_type": "markdown",
   "metadata": {},
   "source": [
    "* `'member': 5720`\n",
    "* `'nd': 590959`\n",
    "* `'node': 528035`\n",
    "* `'osm': 1`\n",
    "* `'relation': 654`\n",
    "* `'tag': 298167`\n",
    "* `'way': 52401`"
   ]
  },
  {
   "cell_type": "markdown",
   "metadata": {},
   "source": [
    "## Patterns in the Tags\n",
    "I created 3 regular expressions to check for certain patterns in the tags by using `tag.ipynp`.\n",
    "These are four categories with each tag:\n",
    "* `'lower': 156611`\n",
    "* `'lower_colon': 136899`\n",
    "* `'other': 4657`\n",
    "* `'problemchars': 0`"
   ]
  },
  {
   "cell_type": "markdown",
   "metadata": {},
   "source": [
    "## Problems Encountered in the Map\n",
    "After parsing the sample size of the seattle_map area, the main problem we encountered is the street name inconsistencies. I noticed a few problems with the data:\n",
    "\n",
    "* Inconsistency of street types (Street vs. st. vs. street, S vs. South)\n",
    "* “Incorrect” postal codes(V8P 3Z9)\n",
    "* Inconsistency of city names ('Seattle' vs. 'seattle')"
   ]
  },
  {
   "cell_type": "markdown",
   "metadata": {},
   "source": [
    "## Data Cleaning\n",
    "Using `audit.ipynp`, we can updated the variables to the right version.\n",
    "After auditing the test data file, we found some problems as stated above. And then we are going to use `data.ipynp` to convert the .osm file to 5 .csv flies which create a SQL database for further analysis.\n",
    "\n",
    "The five .csv files are:\n",
    "* nodes.csv\n",
    "* nodes_tags.csv\n",
    "* ways.csv\n",
    "* ways_nodes.csv\n",
    "* ways_tags.csv"
   ]
  },
  {
   "cell_type": "markdown",
   "metadata": {},
   "source": [
    "## Data Overview and Additional Ideas\n",
    "This section contains basic statistics about the dataset, the SQL queries used to gather them, and some additional ideas about the data in context.\n",
    "\n",
    "### File Sizes\n",
    "* ahmedabad_india.osm: 109.2 MB\n",
    "* nodes_csv: 42.7 MB \n",
    "* nodes_tags.csv: 674.8 MB \n",
    "* ways_csv: 47.8 MB\n",
    "* ways_nodes.csv: 209.9 MB\n",
    "* ways_tags.csv: 121.8 MB\n",
    "* seattle_washington.db: 1.26 GB"
   ]
  },
  {
   "cell_type": "markdown",
   "metadata": {},
   "source": [
    "### Number of nodes\n",
    "\n",
    "```\n",
    "SELECT COUNT(*) FROM nodes;\n",
    "```\n",
    "\n",
    "### Output\n",
    "7920523"
   ]
  },
  {
   "cell_type": "markdown",
   "metadata": {},
   "source": [
    "### Number of ways\n",
    "```\n",
    "SELECT COUNT(*) FROM ways;\n",
    "```\n",
    "\n",
    "### Output\n",
    "786012\n"
   ]
  },
  {
   "cell_type": "markdown",
   "metadata": {},
   "source": [
    "### Number of unique users\n",
    "```\n",
    "SELECT COUNT(DISTINCT(e.uid))          \n",
    "FROM (SELECT uid FROM nodes UNION ALL SELECT uid FROM ways) e;\n",
    "```\n",
    "### Output\n",
    "3542"
   ]
  },
  {
   "cell_type": "markdown",
   "metadata": {},
   "source": [
    "### Top 10 contributing users\n",
    "```\n",
    "SELECT e.user, COUNT(*) as num\n",
    "FROM (SELECT user FROM nodes UNION ALL SELECT user FROM ways) e\n",
    "GROUP BY e.user\n",
    "ORDER BY num DESC\n",
    "LIMIT 10;\n",
    "```\n",
    "\n",
    "### Output\n",
    "```\n",
    "Glassman :1297284\n",
    "SeattleImport: 736303\n",
    "tylerritchie: 657040\n",
    "woodpeck_fixbot: 576079\n",
    "alester: 364024\n",
    "Omnific: 336659\n",
    "Glassman_Import: 225911\n",
    "CarniLvr79: 211409\n",
    "STBrenden: 203418\n",
    "Brad Meteor: 176167\n",
    "```"
   ]
  },
  {
   "cell_type": "markdown",
   "metadata": {},
   "source": [
    "### Number of users appearing only once\n",
    "```\n",
    "SELECT COUNT(*) \n",
    "FROM\n",
    "    (SELECT e.user, COUNT(*) as num\n",
    "     FROM (SELECT user FROM nodes UNION ALL SELECT user FROM ways) e\n",
    "     GROUP BY e.user\n",
    "     HAVING num=1)  u;\n",
    "```\n",
    "\n",
    "### Output\n",
    "669"
   ]
  },
  {
   "cell_type": "markdown",
   "metadata": {},
   "source": [
    "## Additional Ideas\n",
    "### Contributor statistics and gamification suggestion\n",
    "\n",
    "By observing the top 10 contributers, we can see that the users of contributions are slightly skewed.\n",
    "Here are some user percentage statistics:\n",
    "\n",
    "* Top user contribution percentage (“Glassman”) 27.12%\n",
    "* Combined top 2 users' contribution (“Glassman” and “SeattleImport”)  42.51%"
   ]
  },
  {
   "cell_type": "markdown",
   "metadata": {},
   "source": [
    "## Additional Data Exploration"
   ]
  },
  {
   "cell_type": "markdown",
   "metadata": {},
   "source": [
    "### Top 10 appearing amenities\n",
    "```\n",
    "SELECT value, COUNT(*) as num\n",
    "FROM nodes_tags\n",
    "WHERE key='amenity'\n",
    "GROUP BY value\n",
    "ORDER BY num DESC\n",
    "LIMIT 10;\n",
    "```\n",
    "\n",
    "### Output\n",
    "```\n",
    "bicycle_parking:3384\n",
    "bench:3187\n",
    "restaurant:2858\n",
    "waste_basket:1463\n",
    "cafe:1401\n",
    "fast_food:1209\n",
    "school:855\n",
    "parking:806\n",
    "toilets:753\n",
    "place_of_worship:738\n",
    "```\n"
   ]
  },
  {
   "cell_type": "markdown",
   "metadata": {},
   "source": [
    "### Biggest religion\n",
    "```\n",
    "SELECT nodes_tags.value, COUNT(*) as num\n",
    "FROM nodes_tags \n",
    "    JOIN (SELECT DISTINCT(id) FROM nodes_tags WHERE value='place_of_worship') i\n",
    "    ON nodes_tags.id=i.id\n",
    "WHERE nodes_tags.key='religion'\n",
    "GROUP BY nodes_tags.value\n",
    "ORDER BY num DESC\n",
    "LIMIT 1;\n",
    "```\n",
    "\n",
    "### Output\n",
    "```\n",
    "christian|673\n",
    "```"
   ]
  },
  {
   "cell_type": "markdown",
   "metadata": {},
   "source": [
    "### Most popular cuisines\n",
    "```\n",
    "SELECT nodes_tags.value, COUNT(*) as num\n",
    "FROM nodes_tags \n",
    "    JOIN (SELECT DISTINCT(id) FROM nodes_tags WHERE value='restaurant') i\n",
    "    ON nodes_tags.id=i.id\n",
    "WHERE nodes_tags.key='cuisine'\n",
    "GROUP BY nodes_tags.value\n",
    "ORDER BY num DESC\n",
    "Limit 10;\n",
    "```\n",
    "\n",
    "### Output\n",
    "```\n",
    "mexican:    238\n",
    "pizza:      230\n",
    "american:   148\n",
    "thai:       145\n",
    "chinese:    144\n",
    "asian:      138\n",
    "japanese:   135\n",
    "italian:    104\n",
    "vietnamese:  82\n",
    "burger:      72\n",
    "```"
   ]
  },
  {
   "cell_type": "markdown",
   "metadata": {},
   "source": [
    "## Conclusion\n",
    "The OpenStreetMap data of seattle_washington an .osm file but with typo mistakes that caused by human. I did the data clean by using `audit.ipynp` to updating variables. But, there are lots of improvement needed in the dataset. I think this data can be better if it contains more cirminal statistics in the Maps.\n",
    "On the other hand, in the future data importing process, if typos can be controlled would be so much better."
   ]
  },
  {
   "cell_type": "code",
   "execution_count": null,
   "metadata": {
    "collapsed": true
   },
   "outputs": [],
   "source": []
  }
 ],
 "metadata": {
  "anaconda-cloud": {},
  "kernelspec": {
   "display_name": "Python [conda env:DAND]",
   "language": "python",
   "name": "conda-env-DAND-py"
  },
  "language_info": {
   "codemirror_mode": {
    "name": "ipython",
    "version": 2
   },
   "file_extension": ".py",
   "mimetype": "text/x-python",
   "name": "python",
   "nbconvert_exporter": "python",
   "pygments_lexer": "ipython2",
   "version": "2.7.12"
  }
 },
 "nbformat": 4,
 "nbformat_minor": 2
}
